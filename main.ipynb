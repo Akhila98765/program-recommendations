{
 "cells": [
  {
   "cell_type": "code",
   "execution_count": 17,
   "id": "eb433e56",
   "metadata": {},
   "outputs": [],
   "source": [
    "import pandas as pd\n",
    "import os\n",
    "import getpass\n",
    "from pinecone import Pinecone\n",
    "import cohere"
   ]
  },
  {
   "cell_type": "code",
   "execution_count": 18,
   "id": "a7d701a5",
   "metadata": {},
   "outputs": [],
   "source": [
    "df = pd.read_csv('updated_programs (1).csv')"
   ]
  },
  {
   "cell_type": "code",
   "execution_count": null,
   "id": "bd9bd788",
   "metadata": {},
   "outputs": [],
   "source": [
    "COHERE_API_KEY=\"\"\n",
    "PINECONE_API_KEY=\"\""
   ]
  },
  {
   "cell_type": "code",
   "execution_count": 20,
   "id": "009120a8",
   "metadata": {},
   "outputs": [],
   "source": [
    "co = cohere.Client(os.environ[\"COHERE_API_KEY\"])\n"
   ]
  },
  {
   "cell_type": "code",
   "execution_count": 23,
   "id": "4094264c",
   "metadata": {},
   "outputs": [],
   "source": [
    "pc = Pinecone(api_key=os.environ[\"PINECONE_API_KEY\"], environment=\"gcp-starter\")  # change env if needed\n"
   ]
  },
  {
   "cell_type": "code",
   "execution_count": 26,
   "id": "58d89d88",
   "metadata": {},
   "outputs": [
    {
     "name": "stderr",
     "output_type": "stream",
     "text": [
      "c:\\Users\\Madan\\Desktop\\New folder\\Akhila\\venv\\lib\\site-packages\\tqdm\\auto.py:21: TqdmWarning: IProgress not found. Please update jupyter and ipywidgets. See https://ipywidgets.readthedocs.io/en/stable/user_install.html\n",
      "  from .autonotebook import tqdm as notebook_tqdm\n"
     ]
    }
   ],
   "source": [
    "index_name = \"programs\"\n",
    "index = pc.Index(index_name)\n"
   ]
  },
  {
   "cell_type": "code",
   "execution_count": 27,
   "id": "05191d66",
   "metadata": {},
   "outputs": [],
   "source": [
    "texts = []\n",
    "metadata_list = []\n",
    "\n",
    "for _, row in df.iterrows():\n",
    "    combined_text = f\"{row['title']}. {row['description']} Skills: {row['skills_required']}\"\n",
    "    texts.append(combined_text)\n",
    "    metadata_list.append({\n",
    "        \"program_id\": str(row[\"program_id\"]),\n",
    "        \"title\": row[\"title\"],\n",
    "        \"category\": row[\"category\"],\n",
    "        \"start_date\": row[\"start_date\"],\n",
    "        \"end_date\": row[\"end_date\"],\n",
    "        \"cost\": float(row[\"cost\"]),\n",
    "        \"skills_required\": row[\"skills_required\"]\n",
    "    })\n"
   ]
  },
  {
   "cell_type": "code",
   "execution_count": 31,
   "id": "0a1b249c",
   "metadata": {},
   "outputs": [
    {
     "name": "stdout",
     "output_type": "stream",
     "text": [
      "Generating embeddings...\n"
     ]
    }
   ],
   "source": [
    "print(\"Generating embeddings...\")\n",
    "embeds = co.embed(\n",
    "    texts=texts,\n",
    "    model=\"embed-english-v3.0\",\n",
    "    input_type=\"search_document\"  # because you're embedding program data\n",
    ").embeddings\n"
   ]
  },
  {
   "cell_type": "code",
   "execution_count": 32,
   "id": "a086b2d4",
   "metadata": {},
   "outputs": [],
   "source": [
    "to_upsert = []\n",
    "for i, vector in enumerate(embeds):\n",
    "    vector_id = f\"program-{metadata_list[i]['program_id']}\"\n",
    "    to_upsert.append((vector_id, vector, metadata_list[i]))\n"
   ]
  },
  {
   "cell_type": "code",
   "execution_count": 33,
   "id": "2f55a36d",
   "metadata": {},
   "outputs": [],
   "source": [
    "batch_size = 50\n",
    "for i in range(0, len(to_upsert), batch_size):\n",
    "    index.upsert(vectors=to_upsert[i:i+batch_size])\n"
   ]
  },
  {
   "cell_type": "code",
   "execution_count": 34,
   "id": "34781188",
   "metadata": {},
   "outputs": [
    {
     "name": "stdout",
     "output_type": "stream",
     "text": [
      "✅ Successfully uploaded 50 program vectors to Pinecone.\n"
     ]
    }
   ],
   "source": [
    "print(f\"✅ Successfully uploaded {len(to_upsert)} program vectors to Pinecone.\")\n"
   ]
  },
  {
   "cell_type": "code",
   "execution_count": null,
   "id": "bf521c2d",
   "metadata": {},
   "outputs": [],
   "source": []
  }
 ],
 "metadata": {
  "kernelspec": {
   "display_name": "venv",
   "language": "python",
   "name": "python3"
  },
  "language_info": {
   "codemirror_mode": {
    "name": "ipython",
    "version": 3
   },
   "file_extension": ".py",
   "mimetype": "text/x-python",
   "name": "python",
   "nbconvert_exporter": "python",
   "pygments_lexer": "ipython3",
   "version": "3.10.0"
  }
 },
 "nbformat": 4,
 "nbformat_minor": 5
}
